{
 "cells": [
  {
   "cell_type": "markdown",
   "metadata": {},
   "source": [
    "# FD2425\n",
    "Jorge Machado 21181\n"
   ]
  },
  {
   "cell_type": "markdown",
   "metadata": {},
   "source": [
    "Imports"
   ]
  },
  {
   "cell_type": "code",
   "execution_count": 66,
   "metadata": {},
   "outputs": [],
   "source": [
    "import numpy as np\n",
    "import pandas as pd\n",
    "import matplotlib.pyplot as plt\n",
    "import seaborn as sns\n",
    "from sklearn.model_selection import train_test_split\n",
    "from sklearn.preprocessing import StandardScaler\n",
    "from sklearn.neighbors import KNeighborsRegressor\n",
    "from sklearn.linear_model import LinearRegression\n",
    "from sklearn.metrics import mean_squared_error, r2_score\n",
    "import csv\n",
    "from sklearn.ensemble import RandomForestRegressor\n",
    "from sklearn import metrics\n",
    "from sklearn.svm import LinearSVR, NuSVR\n",
    "from sklearn.tree import DecisionTreeRegressor\n",
    "from sklearn.neural_network import MLPRegressor\n",
    "from sklearn.ensemble import AdaBoostRegressor\n",
    "\n",
    "import tkinter as tk"
   ]
  },
  {
   "cell_type": "markdown",
   "metadata": {},
   "source": [
    "Open dataset"
   ]
  },
  {
   "cell_type": "code",
   "execution_count": 67,
   "metadata": {},
   "outputs": [
    {
     "data": {
      "text/html": [
       "<div>\n",
       "<style scoped>\n",
       "    .dataframe tbody tr th:only-of-type {\n",
       "        vertical-align: middle;\n",
       "    }\n",
       "\n",
       "    .dataframe tbody tr th {\n",
       "        vertical-align: top;\n",
       "    }\n",
       "\n",
       "    .dataframe thead th {\n",
       "        text-align: right;\n",
       "    }\n",
       "</style>\n",
       "<table border=\"1\" class=\"dataframe\">\n",
       "  <thead>\n",
       "    <tr style=\"text-align: right;\">\n",
       "      <th></th>\n",
       "      <th>manufacturer_name</th>\n",
       "      <th>model_name</th>\n",
       "      <th>transmission</th>\n",
       "      <th>color</th>\n",
       "      <th>odometer_value</th>\n",
       "      <th>year_produced</th>\n",
       "      <th>engine_fuel</th>\n",
       "      <th>engine_has_gas</th>\n",
       "      <th>engine_type</th>\n",
       "      <th>engine_capacity</th>\n",
       "      <th>body_type</th>\n",
       "      <th>has_warranty</th>\n",
       "      <th>state</th>\n",
       "      <th>drivetrain</th>\n",
       "      <th>price_usd</th>\n",
       "      <th>is_exchangeable</th>\n",
       "    </tr>\n",
       "  </thead>\n",
       "  <tbody>\n",
       "    <tr>\n",
       "      <th>0</th>\n",
       "      <td>Subaru</td>\n",
       "      <td>Outback</td>\n",
       "      <td>automatic</td>\n",
       "      <td>silver</td>\n",
       "      <td>190000</td>\n",
       "      <td>2010</td>\n",
       "      <td>gasoline</td>\n",
       "      <td>False</td>\n",
       "      <td>gasoline</td>\n",
       "      <td>2.5</td>\n",
       "      <td>universal</td>\n",
       "      <td>False</td>\n",
       "      <td>owned</td>\n",
       "      <td>all</td>\n",
       "      <td>10900.00</td>\n",
       "      <td>False</td>\n",
       "    </tr>\n",
       "    <tr>\n",
       "      <th>1</th>\n",
       "      <td>Subaru</td>\n",
       "      <td>Outback</td>\n",
       "      <td>automatic</td>\n",
       "      <td>blue</td>\n",
       "      <td>290000</td>\n",
       "      <td>2002</td>\n",
       "      <td>gasoline</td>\n",
       "      <td>False</td>\n",
       "      <td>gasoline</td>\n",
       "      <td>3.0</td>\n",
       "      <td>universal</td>\n",
       "      <td>False</td>\n",
       "      <td>owned</td>\n",
       "      <td>all</td>\n",
       "      <td>5000.00</td>\n",
       "      <td>True</td>\n",
       "    </tr>\n",
       "    <tr>\n",
       "      <th>2</th>\n",
       "      <td>Subaru</td>\n",
       "      <td>Forester</td>\n",
       "      <td>automatic</td>\n",
       "      <td>red</td>\n",
       "      <td>402000</td>\n",
       "      <td>2001</td>\n",
       "      <td>gasoline</td>\n",
       "      <td>False</td>\n",
       "      <td>gasoline</td>\n",
       "      <td>2.5</td>\n",
       "      <td>suv</td>\n",
       "      <td>False</td>\n",
       "      <td>owned</td>\n",
       "      <td>all</td>\n",
       "      <td>2800.00</td>\n",
       "      <td>True</td>\n",
       "    </tr>\n",
       "    <tr>\n",
       "      <th>3</th>\n",
       "      <td>Subaru</td>\n",
       "      <td>Impreza</td>\n",
       "      <td>mechanical</td>\n",
       "      <td>blue</td>\n",
       "      <td>10000</td>\n",
       "      <td>1999</td>\n",
       "      <td>gasoline</td>\n",
       "      <td>False</td>\n",
       "      <td>gasoline</td>\n",
       "      <td>3.0</td>\n",
       "      <td>sedan</td>\n",
       "      <td>False</td>\n",
       "      <td>owned</td>\n",
       "      <td>all</td>\n",
       "      <td>9999.00</td>\n",
       "      <td>True</td>\n",
       "    </tr>\n",
       "    <tr>\n",
       "      <th>4</th>\n",
       "      <td>Subaru</td>\n",
       "      <td>Legacy</td>\n",
       "      <td>automatic</td>\n",
       "      <td>black</td>\n",
       "      <td>280000</td>\n",
       "      <td>2001</td>\n",
       "      <td>gasoline</td>\n",
       "      <td>False</td>\n",
       "      <td>gasoline</td>\n",
       "      <td>2.5</td>\n",
       "      <td>universal</td>\n",
       "      <td>False</td>\n",
       "      <td>owned</td>\n",
       "      <td>all</td>\n",
       "      <td>2134.11</td>\n",
       "      <td>True</td>\n",
       "    </tr>\n",
       "  </tbody>\n",
       "</table>\n",
       "</div>"
      ],
      "text/plain": [
       "  manufacturer_name model_name transmission   color  odometer_value  \\\n",
       "0            Subaru    Outback    automatic  silver          190000   \n",
       "1            Subaru    Outback    automatic    blue          290000   \n",
       "2            Subaru   Forester    automatic     red          402000   \n",
       "3            Subaru    Impreza   mechanical    blue           10000   \n",
       "4            Subaru     Legacy    automatic   black          280000   \n",
       "\n",
       "   year_produced engine_fuel  engine_has_gas engine_type  engine_capacity  \\\n",
       "0           2010    gasoline           False    gasoline              2.5   \n",
       "1           2002    gasoline           False    gasoline              3.0   \n",
       "2           2001    gasoline           False    gasoline              2.5   \n",
       "3           1999    gasoline           False    gasoline              3.0   \n",
       "4           2001    gasoline           False    gasoline              2.5   \n",
       "\n",
       "   body_type  has_warranty  state drivetrain  price_usd  is_exchangeable  \n",
       "0  universal         False  owned        all   10900.00            False  \n",
       "1  universal         False  owned        all    5000.00             True  \n",
       "2        suv         False  owned        all    2800.00             True  \n",
       "3      sedan         False  owned        all    9999.00             True  \n",
       "4  universal         False  owned        all    2134.11             True  "
      ]
     },
     "execution_count": 67,
     "metadata": {},
     "output_type": "execute_result"
    }
   ],
   "source": [
    "# Load the dataset with the specified columns\n",
    "df = pd.read_csv('./cars.csv', usecols=['manufacturer_name', 'model_name', 'transmission', 'color', \n",
    "                                        'odometer_value', 'year_produced', 'engine_fuel', 'engine_has_gas', \n",
    "                                        'engine_type', 'engine_capacity', 'body_type', 'has_warranty', \n",
    "                                        'state', 'drivetrain', 'price_usd', 'is_exchangeable'])\n",
    "\n",
    "# Remove rows with NaN in any column\n",
    "df = df.dropna().copy()\n",
    "\n",
    "# Print the first rows of the data frame\n",
    "df.head()"
   ]
  },
  {
   "cell_type": "code",
   "execution_count": 68,
   "metadata": {},
   "outputs": [
    {
     "name": "stdout",
     "output_type": "stream",
     "text": [
      "       odometer_value  year_produced  engine_capacity     price_usd\n",
      "count    38521.000000   38521.000000     38521.000000  38521.000000\n",
      "mean    248910.074427    2002.940863         2.055161   6637.160884\n",
      "std     136059.499858       8.064761         0.671178   6425.198996\n",
      "min          0.000000    1942.000000         0.200000      1.000000\n",
      "25%     158000.000000    1998.000000         1.600000   2100.000000\n",
      "50%     250000.000000    2003.000000         2.000000   4800.000000\n",
      "75%     325000.000000    2009.000000         2.300000   8950.000000\n",
      "max    1000000.000000    2019.000000         8.000000  50000.000000\n",
      "manufacturer_name    0\n",
      "model_name           0\n",
      "transmission         0\n",
      "color                0\n",
      "odometer_value       0\n",
      "year_produced        0\n",
      "engine_fuel          0\n",
      "engine_has_gas       0\n",
      "engine_type          0\n",
      "engine_capacity      0\n",
      "body_type            0\n",
      "has_warranty         0\n",
      "state                0\n",
      "drivetrain           0\n",
      "price_usd            0\n",
      "is_exchangeable      0\n",
      "dtype: int64\n"
     ]
    }
   ],
   "source": [
    "\n",
    "# Print the statistical summary for numeric columns\n",
    "print(df.describe())\n",
    "\n",
    "# Print the count of missing values in each column\n",
    "print(df.isnull().sum())"
   ]
  },
  {
   "cell_type": "code",
   "execution_count": 69,
   "metadata": {},
   "outputs": [],
   "source": [
    "# Feature selection for modeling\n",
    "X = df[['model_name', 'year_produced', 'odometer_value', 'color', 'transmission', 'engine_fuel']]\n",
    "y = df['price_usd']  # Target variable\n",
    "\n",
    "# Encode categorical features\n",
    "X = pd.get_dummies(X, columns=['model_name', 'color', 'transmission', 'engine_fuel', 'odometer_value', 'year_produced'], drop_first=True)\n"
   ]
  },
  {
   "cell_type": "markdown",
   "metadata": {},
   "source": [
    "Como é para seguir a lógica de 60 - 20 - 20, na função trans_test_split foi dado o parametro 0.20 representando então os 20%\n",
    "\n",
    "\n",
    "represent the proportion of the dataset to include in the test split."
   ]
  },
  {
   "cell_type": "code",
   "execution_count": 70,
   "metadata": {},
   "outputs": [
    {
     "name": "stdout",
     "output_type": "stream",
     "text": [
      "Training set shape: (18489, 7253)\n",
      "Validation set shape: (4623, 7253)\n",
      "Testing set shape: (7705, 7253)\n"
     ]
    }
   ],
   "source": [
    "# Split the data into training and testing sets without stratification\n",
    "X_train, X_test, y_train, y_test = train_test_split(X, y, test_size=0.2, train_size=0.60, random_state=50)\n",
    "\n",
    "# Further split the training set into training and validation sets\n",
    "x_train, x_val, y_train, y_val = train_test_split(X_train, y_train, test_size=0.2, random_state=50)\n",
    "\n",
    "\n",
    "# Print the shapes of the splits to verify\n",
    "print(\"Training set shape:\", x_train.shape)\n",
    "print(\"Validation set shape:\", x_val.shape)\n",
    "print(\"Testing set shape:\", X_test.shape)"
   ]
  },
  {
   "cell_type": "markdown",
   "metadata": {},
   "source": [
    "# Supervised Learning\n",
    "\n",
    "Regression = learn f with continuous output values"
   ]
  },
  {
   "cell_type": "code",
   "execution_count": 75,
   "metadata": {},
   "outputs": [
    {
     "name": "stderr",
     "output_type": "stream",
     "text": [
      "c:\\Users\\jorgi\\OneDrive\\Documentos\\Fusao_Dados\\.conda\\lib\\site-packages\\sklearn\\neural_network\\_multilayer_perceptron.py:690: ConvergenceWarning: Stochastic Optimizer: Maximum iterations (200) reached and the optimization hasn't converged yet.\n",
      "  warnings.warn(\n"
     ]
    },
    {
     "name": "stdout",
     "output_type": "stream",
     "text": [
      "Predictions: [ 8205.43183546  1018.99091894 10304.98751008 ... 15494.30183666\n",
      " 14336.75137986  6308.73899351]\n"
     ]
    }
   ],
   "source": [
    "# Initialize and train the model\n",
    "#model = LinearSVR()\n",
    "# model = NuSVR()\n",
    "#model = KNeighborsRegressor()\n",
    "#model = DecisionTreeRegressor()\n",
    "#model = RandomForestRegressor()\n",
    "#model = AdaBoostRegressor()\n",
    "model = MLPRegressor()\n",
    "# model = SGDRegressor()\n",
    "\n",
    "# Fit the model using the correct training split\n",
    "model.fit(x_train, y_train)\n",
    "\n",
    "# Evaluate using X_test (testing set)\n",
    "y_pred = model.predict(X_test)\n",
    "\n",
    "# Print predictions to verify\n",
    "print(\"Predictions:\", y_pred)"
   ]
  },
  {
   "cell_type": "markdown",
   "metadata": {},
   "source": [
    "Metricas utilizadas para a regressão\n",
    "\n",
    "# MSE – Mean Squared error [1]\n",
    "Mede a diferença média quadrática entre os valores previstos e os valores reais no conjunto de dados.\n",
    "\n",
    "**Vantagens:**\n",
    "\n",
    "- Fornece uma medida abrangente da precisão do modelo.\n",
    "- Sensível tanto a grandes quanto a pequenos erros.\n",
    "- Fácil de calcular e interpretar.\n",
    "\n",
    "**Limitações:**\n",
    "\n",
    "- Pode ser fortemente influenciado por outliers.\n",
    "- Penaliza erros grandes de forma desproporcional, o que pode nem sempre ser desejável.\n",
    "\n",
    "# MAE – Mean Absolute Error [2]\n",
    "O Erro Médio Absoluto calcula a diferença média entre os valores calculados e os valores reais.\n",
    "\n",
    "**Vantagens:**\n",
    "\n",
    "- Interpretabilidade: MAE fornece uma medida direta do erro médio, calculando a diferença absoluta média entre os valores previstos e os valores reais. Por exemplo, um MAE de 5 indica que as previsões, em média, desviam-se em 5 unidades dos valores reais.\n",
    "- Robustez a Outliers: MAE é resiliente a outliers, tratando todos os erros de forma igual. Ao contrário do Erro Quadrático Médio (MSE), que penaliza discrepâncias maiores de forma mais intensa, o MAE mantém estabilidade e confiabilidade quando os conjuntos de dados incluem outliers.\n",
    "- Aplicação Prática: MAE é útil em cenários do mundo real onde os custos de erro são lineares, como previsão de demanda ou estimativa de preços de imóveis. Ele oferece insights sobre os tamanhos médios dos erros, tornando-se uma métrica preferida para avaliar a qualidade da previsão com base no erro absoluto em vez do erro relativo.\n",
    "- Penalidade Linear: A natureza linear do MAE significa que o impacto de cada erro na aprendizagem do modelo é diretamente proporcional à sua magnitude. Isso permite que o modelo minimize os erros médios sem focar desproporcionalmente em discrepâncias maiores, garantindo um desempenho equilibrado em todos os pontos de dados.\n",
    "\n",
    "# MAPE – Mean Absolute Percentage Error [3]\n",
    "- O termo MAPE determina quão melhor é a precisão da nossa previsão.\n",
    "- O melhor valor para MAPE é 0, enquanto um valor mais alto indica que as previsões não são precisas o suficiente. No entanto, o quão grande deve ser um valor MAPE para ser considerado uma previsão ineficiente depende do caso de uso.\n",
    "\n",
    "# MDAE – Median Absolute Error [4]\n",
    "A principal vantagem de usar essa métrica é sua forte resiliência a outliers.\n",
    "\n",
    "[1] `https://www.geeksforgeeks.org/mean-squared-error/`  \n",
    "[2] `https://www.geeksforgeeks.org/how-to-calculate-mean-absolute-error-in-python/`  \n",
    "[3] `https://www.geeksforgeeks.org/how-to-calculate-mape-in-python/`  \n",
    "[4] `https://insidelearningmachines.com/median_absolute_error/` "
   ]
  },
  {
   "cell_type": "code",
   "execution_count": 77,
   "metadata": {},
   "outputs": [
    {
     "name": "stdout",
     "output_type": "stream",
     "text": [
      "Mean Squared Error: 9616697.8419077\n",
      "Mean Absolute Error: 1699.1284558455368\n",
      "Mean Absolute Percentage Error: 0.38182343684399034\n",
      "Median Absolute Error: 950.560144320609\n"
     ]
    }
   ],
   "source": [
    "\n",
    "mse = metrics.mean_squared_error(y_test, y_pred)\n",
    "mae = metrics.mean_absolute_error(y_test, y_pred)\n",
    "mape = metrics.mean_absolute_percentage_error(y_test, y_pred)\n",
    "mdae = metrics.median_absolute_error(y_test, y_pred)\n",
    "\n",
    "\n",
    "print(\"Mean Squared Error:\", mse)\n",
    "print(\"Mean Absolute Error:\", mae)\n",
    "print(\"Mean Absolute Percentage Error:\", mape)\n",
    "print(\"Median Absolute Error:\", mdae)\n",
    "\n",
    "\n"
   ]
  },
  {
   "cell_type": "markdown",
   "metadata": {},
   "source": [
    "Testes com dados random "
   ]
  },
  {
   "cell_type": "code",
   "execution_count": 73,
   "metadata": {},
   "outputs": [
    {
     "name": "stdout",
     "output_type": "stream",
     "text": [
      "Predicted Price: 19315.39009629043 EUR\n"
     ]
    }
   ],
   "source": [
    "#Predicting car prices using new data\n",
    "new_data = [['Hyundai Elantra HD',2009, 165000 , 'Gray', 'Automatic', 'Gasoline']]  \n",
    "\n",
    "# Create a DataFrame with the same columns as the training data\n",
    "new_data_df = pd.DataFrame(new_data, columns=['Car_Model','Year', 'Mileage', 'Color', 'Gearbox_type', 'Fuel_type'])\n",
    "\n",
    "# One-hot encode the new data\n",
    "new_data_encoded = pd.get_dummies(new_data_df)\n",
    "\n",
    "# Align the new data with the training data columns\n",
    "new_data_encoded = new_data_encoded.reindex(columns=X_train.columns, fill_value=0)\n",
    "\n",
    "# Predict the price\n",
    "new_price = model.predict(new_data_encoded)\n",
    "print(f\"Predicted Price: {new_price[0]} EUR\")"
   ]
  },
  {
   "cell_type": "markdown",
   "metadata": {},
   "source": [
    "**classification**\n"
   ]
  },
  {
   "cell_type": "code",
   "execution_count": null,
   "metadata": {},
   "outputs": [],
   "source": []
  }
 ],
 "metadata": {
  "kernelspec": {
   "display_name": ".conda",
   "language": "python",
   "name": "python3"
  },
  "language_info": {
   "codemirror_mode": {
    "name": "ipython",
    "version": 3
   },
   "file_extension": ".py",
   "mimetype": "text/x-python",
   "name": "python",
   "nbconvert_exporter": "python",
   "pygments_lexer": "ipython3",
   "version": "3.10.13"
  }
 },
 "nbformat": 4,
 "nbformat_minor": 2
}
